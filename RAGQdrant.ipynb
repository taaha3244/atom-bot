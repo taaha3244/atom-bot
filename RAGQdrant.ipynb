{
  "nbformat": 4,
  "nbformat_minor": 0,
  "metadata": {
    "colab": {
      "provenance": [],
      "authorship_tag": "ABX9TyP32mB7yQMTWYkjrZxmMKtO",
      "include_colab_link": true
    },
    "kernelspec": {
      "name": "python3",
      "display_name": "Python 3"
    },
    "language_info": {
      "name": "python"
    }
  },
  "cells": [
    {
      "cell_type": "markdown",
      "metadata": {
        "id": "view-in-github",
        "colab_type": "text"
      },
      "source": [
        "<a href=\"https://colab.research.google.com/github/taaha3244/atom-bot/blob/main/RAGQdrant.ipynb\" target=\"_parent\"><img src=\"https://colab.research.google.com/assets/colab-badge.svg\" alt=\"Open In Colab\"/></a>"
      ]
    },
    {
      "cell_type": "code",
      "execution_count": null,
      "metadata": {
        "id": "A8Cq0hc-DGSN"
      },
      "outputs": [],
      "source": [
        "!pip install pypdf openai transformers Chroma langchain langchain_openai chromadb\n",
        "!pip install --upgrade --quiet  qdrant-client"
      ]
    },
    {
      "cell_type": "code",
      "source": [
        "from langchain_community.document_loaders import PyPDFLoader\n",
        "\n",
        "loader = PyPDFLoader(\"/content/atomcamp.pdf\")\n",
        "pages = loader.load_and_split()\n",
        "len(pages)\n",
        "pages[0]"
      ],
      "metadata": {
        "colab": {
          "base_uri": "https://localhost:8080/"
        },
        "id": "w-WdOabDEU-f",
        "outputId": "9b5868d8-bdb0-4a69-ad03-5a2558fc7f2d"
      },
      "execution_count": 16,
      "outputs": [
        {
          "output_type": "execute_result",
          "data": {
            "text/plain": [
              "Document(page_content=\"We are a young ed-tech platform focused on | Data Science and AI | . We \\ncommenced operations in 2021. Since then, we have experienced a continuous \\nupward trajectory, both within the ed-tech ecosystem and within our own team. |\\nT wo years down the lane, we are proud to have a team of 35 employees, with the\\ndistinction of | 75% | of them being women. This remarkable achievement \\nreflects the efforts of our founders, Dr. Naveed Iftikhar and Nida Mehmood, who \\nhave carefully curated this team with dedication. | Our | mission | , focused on \\nproviding accessible and all-inclusive education in the fields of Data Science and \\nAI, has witnessed exponential growth with each successive cohort of bootcamps. \\n| Through these | training initiatives | , we have nurtured a community of lifelong \\nlearners who not only contribute to the Data and AI ecosystem but have also \\nhoned the art of effective collaboration between diverse entities. | By offering \\nimmersive | learning experiences | , real-world projects, and personalized \\nmentorship, atomcamp is dedicated to establishing a global community of Data \\nScientists and AI | Professionals | . | Dr Naveed Iftikhar | Co-founder | Nida \\nMahmood | Co-founder | Meet our incredible | team | . | Fizza Amjad | Chief \\nExecutive Officer | Mahnoor Salman | ML Engineer | Zumer Zia | BI Specialist | \\nNazia Cheema | Admissions Manager | Aamna Babar | Project Manager | Safa \\nBaig | Manager Learning & Development | Rida Mughees | Manager Marketing | \\nSarmad Bilal | Senior Software Engineer | Hajira Anwar | AI Engineer | Anusha \\nQureshi | Marketing Consultant | Farwa Zahid | Data Analyst | Usama Shahid | \\nData Analyst | Iqra Jannat | Associate Data Scientist | Maria Qibtiya | Associate \\nData Scientist | A gateway to unlocking | opportunities | with | Artificial \\nIntelligence | & | Data Science | . | By providing accessible education in data \\nscience and AI, we aspire to cultivate a community of lifelong learners who not \\nonly embrace the digital age but also shape its trajectory. | Through immersive \\nlearning experiences, real-world projects, and personalized mentorship, \\natomcamp is building a global community in data-driven excellence. | Our | \\neducational | partners | . | Hello from remarkable | trainers | . | Hussain Shahbaz |\\nLinkedin | Usman Zia | Linkedin | Alexander Nallin | Linkedin | Yahya Bajwa | \\nLinkedin | Shafiqa Iqbal | Linkedin | Sidra Cheema | Linkedin | Ayman Rehan | \\nLinkedin | Dr Zubair Khalid | Linkedin | Zumer Zia | Linkedin | Muhammad Umair | \\nLinkedin | Mahnoor Salman | Linkedin | Naima Iltaf | Linkedin | atomcamp is a \\ncontinuous learning platform that aims to intellectually and professionally uplift \\nPakistan`s workforce. | atomcamp is a continuous learning platform | unlocking \\nopportunities with | Data Science. | For general inquiries: | team@atomcamp.com\\n| Home | About | Course | Publications | Home | About | Course | Publications | \\nDonâ€™t miss our future updates! | Get Subscribed T oday! | Please enable \\nJavaScript in your browser to complete this form. | Email | * | Subscribe | For \\nAdmissions: +92-302-2278385 | For Events & Partnerships: \\nfizza@atomcamp.com | 15-E Rehmat Center, Blue Area, Islamabad\\nWhy Choose atomcamp's Gatherings? | Expert Speaker Lineup: Discover from the\\nBest | Hands-On Workshops: Learning by Doing | Diverse Community: Connect \\nwith Data Enthusiasts | Networking Opportunities: Build Valuable Connections | \\nUpcoming Events | Past Events | NUST, Islamabad | AI Summit Islamabad | The AI\\nSummit 2023 featured a panel of industry experts and top academics. | They \\ndiscussed how AI is opening opportunities for youth and businesses. | Many \\nstartups joined the event. They showcased how they have applied AI to solve\", metadata={'source': '/content/atomcamp.pdf', 'page': 0})"
            ]
          },
          "metadata": {},
          "execution_count": 16
        }
      ]
    },
    {
      "cell_type": "code",
      "source": [
        "from langchain.text_splitter import RecursiveCharacterTextSplitter\n",
        "text_splitter = RecursiveCharacterTextSplitter(\n",
        "\n",
        "    chunk_size=1000,\n",
        "    chunk_overlap=200\n",
        ")\n",
        "\n",
        "texts = text_splitter.split_documents(pages)\n",
        "\n",
        "print(texts[0])\n",
        "print(texts[1])"
      ],
      "metadata": {
        "colab": {
          "base_uri": "https://localhost:8080/"
        },
        "id": "fKPWeKfPEyjA",
        "outputId": "c0438b0d-08a3-4bc2-9747-e44f223161f0"
      },
      "execution_count": 17,
      "outputs": [
        {
          "output_type": "stream",
          "name": "stdout",
          "text": [
            "page_content='We are a young ed-tech platform focused on | Data Science and AI | . We \\ncommenced operations in 2021. Since then, we have experienced a continuous \\nupward trajectory, both within the ed-tech ecosystem and within our own team. |\\nT wo years down the lane, we are proud to have a team of 35 employees, with the\\ndistinction of | 75% | of them being women. This remarkable achievement \\nreflects the efforts of our founders, Dr. Naveed Iftikhar and Nida Mehmood, who \\nhave carefully curated this team with dedication. | Our | mission | , focused on \\nproviding accessible and all-inclusive education in the fields of Data Science and \\nAI, has witnessed exponential growth with each successive cohort of bootcamps. \\n| Through these | training initiatives | , we have nurtured a community of lifelong \\nlearners who not only contribute to the Data and AI ecosystem but have also \\nhoned the art of effective collaboration between diverse entities. | By offering' metadata={'source': '/content/atomcamp.pdf', 'page': 0}\n",
            "page_content='learners who not only contribute to the Data and AI ecosystem but have also \\nhoned the art of effective collaboration between diverse entities. | By offering \\nimmersive | learning experiences | , real-world projects, and personalized \\nmentorship, atomcamp is dedicated to establishing a global community of Data \\nScientists and AI | Professionals | . | Dr Naveed Iftikhar | Co-founder | Nida \\nMahmood | Co-founder | Meet our incredible | team | . | Fizza Amjad | Chief \\nExecutive Officer | Mahnoor Salman | ML Engineer | Zumer Zia | BI Specialist | \\nNazia Cheema | Admissions Manager | Aamna Babar | Project Manager | Safa \\nBaig | Manager Learning & Development | Rida Mughees | Manager Marketing | \\nSarmad Bilal | Senior Software Engineer | Hajira Anwar | AI Engineer | Anusha \\nQureshi | Marketing Consultant | Farwa Zahid | Data Analyst | Usama Shahid | \\nData Analyst | Iqra Jannat | Associate Data Scientist | Maria Qibtiya | Associate' metadata={'source': '/content/atomcamp.pdf', 'page': 0}\n"
          ]
        }
      ]
    },
    {
      "cell_type": "code",
      "source": [
        "from langchain_openai import OpenAIEmbeddings\n",
        "from google.colab import userdata\n",
        "embeddings_model = OpenAIEmbeddings(openai_api_key=userdata.get('openai_api_key'))"
      ],
      "metadata": {
        "id": "bkk-5YMIMlLX"
      },
      "execution_count": 18,
      "outputs": []
    },
    {
      "cell_type": "code",
      "source": [
        "\n",
        "from langchain_community.vectorstores import Qdrant\n",
        "\n",
        "\n",
        "url = userdata.get('qdrant_url')\n",
        "qdrant_api_key = userdata.get('qdrant')\n",
        "qdrant = Qdrant.from_documents(\n",
        "    texts,\n",
        "    embeddings_model,\n",
        "    url=url,\n",
        "    prefer_grpc=True,\n",
        "    api_key=qdrant_api_key,\n",
        "    collection_name=\"atom_bot_embeddings\",\n",
        ")\n"
      ],
      "metadata": {
        "id": "ywAAwdNXOXzm"
      },
      "execution_count": 19,
      "outputs": []
    },
    {
      "cell_type": "code",
      "source": [
        "question= \"What is your name??\"\n",
        "context = qdrant.similarity_search(question)\n",
        "context[0]"
      ],
      "metadata": {
        "colab": {
          "base_uri": "https://localhost:8080/"
        },
        "id": "DI_X_2mtIUOz",
        "outputId": "50a7923f-7f58-4eea-c80b-ef758f36fb07"
      },
      "execution_count": 52,
      "outputs": [
        {
          "output_type": "execute_result",
          "data": {
            "text/plain": [
              "Document(page_content='September at PNCA (Pakistan National Council of Arts), F5, Islamabad. The \\nfestival was a celebration of Art Therapy and self expression. The festival was a \\nsuccess as it allowed men, women and children, to showcase their expression \\nand thoughts through colors and clay. | Women in CS-Career Development \\nWorkshop | This free workshop guided approximately 20 female students and \\ngraduates of Computer Science on how to build a competent profile, land a \\ndream job, and explore a range of different opportunities available for them at \\nnational and international levels. This workshop focused on: | CV/Resume Writing\\n| Interview Skills | Potential Career Opportunities (theyâ€™re numerous!) | Closed\\n| Meet the Trainer | Trainer | Ã— | Mahnoor Fatima | Global T echnical Product \\nManager (Germany) | Education: Bachelors in Computer Sciences from FAST NU, \\nIslamabad | T echnical Software Development Training from TU Munich | Close |', metadata={'page': 4, 'source': '/content/atomcamp.pdf', '_id': 'fdfde592-ddd4-426d-ad5b-9595c511ea58', '_collection_name': 'atom_bot_embeddings'})"
            ]
          },
          "metadata": {},
          "execution_count": 52
        }
      ]
    },
    {
      "cell_type": "code",
      "source": [
        "from langchain_core.prompts import ChatPromptTemplate\n",
        "\n",
        "chat_template = ChatPromptTemplate.from_messages(\n",
        "    [\n",
        "        (\"system\", \"\"\"\"You are a helpful AI bot  and belong to an online education platform named Atom camp. Your name is atom-bot.\n",
        "                       Use the following pieces of context to answer the questions at the end.If you don't know the\n",
        "                       answer, just say don't know. do not try to make up the answer.   {context}        \"\"\"\"\"),\n",
        "\n",
        "\n",
        "        (\"human\", \"Hello, how are you doing?\"),\n",
        "        (\"ai\", \"I'm doing well, thanks!\"),\n",
        "        (\"human\", \"{question}\"),\n",
        "    ]\n",
        ")\n",
        "\n"
      ],
      "metadata": {
        "id": "gaxHObMEYCgh"
      },
      "execution_count": 55,
      "outputs": []
    },
    {
      "cell_type": "code",
      "source": [
        "from langchain.prompts import PromptTemplate\n",
        "prompt=PromptTemplate(\n",
        "    template=\"\"\"\"You ara a chatbot named 'Atom-bot' and belong to an online education platform named Atom camp.\n",
        "    Your purpose is to spread positive image of the institute and give information to the user.Use the following pieces of context to answer the questions at the end.If\n",
        "    you don't know the answer, just say don't know. do not try to make up the answer.\n",
        "\n",
        "    <context>\n",
        "    {context}\n",
        "    </context>\n",
        "\n",
        "    Question: {question}\n",
        "    Helpful Answer,formatted in markdown:\"\"\",\n",
        "    input_variables=[\"context\",\"question\"]\n",
        ")\n"
      ],
      "metadata": {
        "id": "qFHZuoyGN1am"
      },
      "execution_count": 46,
      "outputs": []
    },
    {
      "cell_type": "code",
      "source": [
        "from langchain.chains import LLMChain\n",
        "from langchain.llms import OpenAI\n",
        "\n",
        "llm=OpenAI(openai_api_key=userdata.get('openai_api_key'))\n",
        "chain=LLMChain(llm=llm,prompt=chat_template)\n",
        "\n",
        "result=chain({\n",
        "    \"question\":question,\n",
        "    \"context\":\"/n\".join([doc.page_content for doc in context])\n",
        "})\n",
        "\n",
        "print(result['text'])"
      ],
      "metadata": {
        "id": "WaBCLLaHQV_H",
        "colab": {
          "base_uri": "https://localhost:8080/"
        },
        "outputId": "52dfa711-ff2d-4303-ce47-8b65d1a0a9c4"
      },
      "execution_count": 54,
      "outputs": [
        {
          "output_type": "stream",
          "name": "stdout",
          "text": [
            "\n",
            "AI: My name is atom-bot. I am a helpful AI bot belonging to an online education platform.\n"
          ]
        }
      ]
    },
    {
      "cell_type": "markdown",
      "source": [
        "Accessing directly from qdrant cloud"
      ],
      "metadata": {
        "id": "c35LFTZ5_alZ"
      }
    },
    {
      "cell_type": "code",
      "source": [
        "from qdrant_client import QdrantClient\n",
        "\n",
        "qdrant_client = QdrantClient(url=userdata.get('qdrant_url'))\n"
      ],
      "metadata": {
        "id": "_72XnxLgoyoe"
      },
      "execution_count": 65,
      "outputs": []
    },
    {
      "cell_type": "code",
      "source": [
        "search_result = qdrant_client.search(\n",
        "    collection_name=\"atom_bot_embeddings\",\n",
        "    query_vector='Who is Fizza?',  # Your query vector here\n",
        "    query_filter=None # Use this if you have specific filters # How many results you want\n",
        ")\n",
        "print(search_result)\n"
      ],
      "metadata": {
        "colab": {
          "base_uri": "https://localhost:8080/",
          "height": 546
        },
        "id": "7_N56Ee63lhv",
        "outputId": "f8bc2d74-1dd2-43fd-86b0-624f93352566"
      },
      "execution_count": 64,
      "outputs": [
        {
          "output_type": "error",
          "ename": "ValidationError",
          "evalue": "3 validation errors for SearchRequest\nvector.NamedSparseVector\n  Input should be a valid dictionary or instance of NamedSparseVector [type=model_type, input_value='Who is Fizza?', input_type=str]\n    For further information visit https://errors.pydantic.dev/2.6/v/model_type\nvector.NamedVector\n  Input should be a valid dictionary or instance of NamedVector [type=model_type, input_value='Who is Fizza?', input_type=str]\n    For further information visit https://errors.pydantic.dev/2.6/v/model_type\nvector.list[float]\n  Input should be a valid list [type=list_type, input_value='Who is Fizza?', input_type=str]\n    For further information visit https://errors.pydantic.dev/2.6/v/list_type",
          "traceback": [
            "\u001b[0;31m---------------------------------------------------------------------------\u001b[0m",
            "\u001b[0;31mValidationError\u001b[0m                           Traceback (most recent call last)",
            "\u001b[0;32m<ipython-input-64-3d2063e5ef78>\u001b[0m in \u001b[0;36m<cell line: 1>\u001b[0;34m()\u001b[0m\n\u001b[0;32m----> 1\u001b[0;31m search_result = qdrant_client.search(\n\u001b[0m\u001b[1;32m      2\u001b[0m     \u001b[0mcollection_name\u001b[0m\u001b[0;34m=\u001b[0m\u001b[0;34m\"atom_bot_embeddings\"\u001b[0m\u001b[0;34m,\u001b[0m\u001b[0;34m\u001b[0m\u001b[0;34m\u001b[0m\u001b[0m\n\u001b[1;32m      3\u001b[0m     \u001b[0mquery_vector\u001b[0m\u001b[0;34m=\u001b[0m\u001b[0;34m'Who is Fizza?'\u001b[0m\u001b[0;34m,\u001b[0m  \u001b[0;31m# Your query vector here\u001b[0m\u001b[0;34m\u001b[0m\u001b[0;34m\u001b[0m\u001b[0m\n\u001b[1;32m      4\u001b[0m     \u001b[0mquery_filter\u001b[0m\u001b[0;34m=\u001b[0m\u001b[0;32mNone\u001b[0m \u001b[0;31m# Use this if you have specific filters # How many results you want\u001b[0m\u001b[0;34m\u001b[0m\u001b[0;34m\u001b[0m\u001b[0m\n\u001b[1;32m      5\u001b[0m )\n",
            "\u001b[0;32m/usr/local/lib/python3.10/dist-packages/qdrant_client/qdrant_client.py\u001b[0m in \u001b[0;36msearch\u001b[0;34m(self, collection_name, query_vector, query_filter, search_params, limit, offset, with_payload, with_vectors, score_threshold, append_payload, consistency, shard_key_selector, timeout, **kwargs)\u001b[0m\n\u001b[1;32m    343\u001b[0m         \u001b[0;32massert\u001b[0m \u001b[0mlen\u001b[0m\u001b[0;34m(\u001b[0m\u001b[0mkwargs\u001b[0m\u001b[0;34m)\u001b[0m \u001b[0;34m==\u001b[0m \u001b[0;36m0\u001b[0m\u001b[0;34m,\u001b[0m \u001b[0;34mf\"Unknown arguments: {list(kwargs.keys())}\"\u001b[0m\u001b[0;34m\u001b[0m\u001b[0;34m\u001b[0m\u001b[0m\n\u001b[1;32m    344\u001b[0m \u001b[0;34m\u001b[0m\u001b[0m\n\u001b[0;32m--> 345\u001b[0;31m         return self._client.search(\n\u001b[0m\u001b[1;32m    346\u001b[0m             \u001b[0mcollection_name\u001b[0m\u001b[0;34m=\u001b[0m\u001b[0mcollection_name\u001b[0m\u001b[0;34m,\u001b[0m\u001b[0;34m\u001b[0m\u001b[0;34m\u001b[0m\u001b[0m\n\u001b[1;32m    347\u001b[0m             \u001b[0mquery_vector\u001b[0m\u001b[0;34m=\u001b[0m\u001b[0mquery_vector\u001b[0m\u001b[0;34m,\u001b[0m\u001b[0;34m\u001b[0m\u001b[0;34m\u001b[0m\u001b[0m\n",
            "\u001b[0;32m/usr/local/lib/python3.10/dist-packages/qdrant_client/qdrant_remote.py\u001b[0m in \u001b[0;36msearch\u001b[0;34m(self, collection_name, query_vector, query_filter, search_params, limit, offset, with_payload, with_vectors, score_threshold, append_payload, consistency, shard_key_selector, timeout, **kwargs)\u001b[0m\n\u001b[1;32m    481\u001b[0m                 \u001b[0mconsistency\u001b[0m\u001b[0;34m=\u001b[0m\u001b[0mconsistency\u001b[0m\u001b[0;34m,\u001b[0m\u001b[0;34m\u001b[0m\u001b[0;34m\u001b[0m\u001b[0m\n\u001b[1;32m    482\u001b[0m                 \u001b[0mtimeout\u001b[0m\u001b[0;34m=\u001b[0m\u001b[0mtimeout\u001b[0m\u001b[0;34m,\u001b[0m\u001b[0;34m\u001b[0m\u001b[0;34m\u001b[0m\u001b[0m\n\u001b[0;32m--> 483\u001b[0;31m                 search_request=models.SearchRequest(\n\u001b[0m\u001b[1;32m    484\u001b[0m                     \u001b[0mvector\u001b[0m\u001b[0;34m=\u001b[0m\u001b[0mquery_vector\u001b[0m\u001b[0;34m,\u001b[0m\u001b[0;34m\u001b[0m\u001b[0;34m\u001b[0m\u001b[0m\n\u001b[1;32m    485\u001b[0m                     \u001b[0mfilter\u001b[0m\u001b[0;34m=\u001b[0m\u001b[0mquery_filter\u001b[0m\u001b[0;34m,\u001b[0m\u001b[0;34m\u001b[0m\u001b[0;34m\u001b[0m\u001b[0m\n",
            "\u001b[0;32m/usr/local/lib/python3.10/dist-packages/pydantic/main.py\u001b[0m in \u001b[0;36m__init__\u001b[0;34m(self, **data)\u001b[0m\n\u001b[1;32m    169\u001b[0m         \u001b[0;31m# `__tracebackhide__` tells pytest and some other tools to omit this function from tracebacks\u001b[0m\u001b[0;34m\u001b[0m\u001b[0;34m\u001b[0m\u001b[0m\n\u001b[1;32m    170\u001b[0m         \u001b[0m__tracebackhide__\u001b[0m \u001b[0;34m=\u001b[0m \u001b[0;32mTrue\u001b[0m\u001b[0;34m\u001b[0m\u001b[0;34m\u001b[0m\u001b[0m\n\u001b[0;32m--> 171\u001b[0;31m         \u001b[0mself\u001b[0m\u001b[0;34m.\u001b[0m\u001b[0m__pydantic_validator__\u001b[0m\u001b[0;34m.\u001b[0m\u001b[0mvalidate_python\u001b[0m\u001b[0;34m(\u001b[0m\u001b[0mdata\u001b[0m\u001b[0;34m,\u001b[0m \u001b[0mself_instance\u001b[0m\u001b[0;34m=\u001b[0m\u001b[0mself\u001b[0m\u001b[0;34m)\u001b[0m\u001b[0;34m\u001b[0m\u001b[0;34m\u001b[0m\u001b[0m\n\u001b[0m\u001b[1;32m    172\u001b[0m \u001b[0;34m\u001b[0m\u001b[0m\n\u001b[1;32m    173\u001b[0m     \u001b[0;31m# The following line sets a flag that we use to determine when `__init__` gets overridden by the user\u001b[0m\u001b[0;34m\u001b[0m\u001b[0;34m\u001b[0m\u001b[0m\n",
            "\u001b[0;31mValidationError\u001b[0m: 3 validation errors for SearchRequest\nvector.NamedSparseVector\n  Input should be a valid dictionary or instance of NamedSparseVector [type=model_type, input_value='Who is Fizza?', input_type=str]\n    For further information visit https://errors.pydantic.dev/2.6/v/model_type\nvector.NamedVector\n  Input should be a valid dictionary or instance of NamedVector [type=model_type, input_value='Who is Fizza?', input_type=str]\n    For further information visit https://errors.pydantic.dev/2.6/v/model_type\nvector.list[float]\n  Input should be a valid list [type=list_type, input_value='Who is Fizza?', input_type=str]\n    For further information visit https://errors.pydantic.dev/2.6/v/list_type"
          ]
        }
      ]
    },
    {
      "cell_type": "code",
      "source": [],
      "metadata": {
        "id": "fl37bMCc6uQ8"
      },
      "execution_count": null,
      "outputs": []
    }
  ]
}