{
  "nbformat": 4,
  "nbformat_minor": 0,
  "metadata": {
    "colab": {
      "provenance": [],
      "authorship_tag": "ABX9TyNoXt+sdroVrTVwKb03+tkc",
      "include_colab_link": true
    },
    "kernelspec": {
      "name": "python3",
      "display_name": "Python 3"
    },
    "language_info": {
      "name": "python"
    }
  },
  "cells": [
    {
      "cell_type": "markdown",
      "metadata": {
        "id": "view-in-github",
        "colab_type": "text"
      },
      "source": [
        "<a href=\"https://colab.research.google.com/github/taaha3244/atom-bot/blob/main/RAGQdrant.ipynb\" target=\"_parent\"><img src=\"https://colab.research.google.com/assets/colab-badge.svg\" alt=\"Open In Colab\"/></a>"
      ]
    },
    {
      "cell_type": "code",
      "execution_count": null,
      "metadata": {
        "id": "A8Cq0hc-DGSN"
      },
      "outputs": [],
      "source": [
        "!pip install pypdf openai transformers Chroma langchain langchain_openai chromadb\n",
        "!pip install --upgrade --quiet  qdrant-client"
      ]
    },
    {
      "cell_type": "code",
      "source": [
        "from langchain_community.document_loaders import PyPDFLoader\n",
        "\n",
        "loader = PyPDFLoader(\"/content/atomcamp.pdf\")\n",
        "pages = loader.load_and_split()\n",
        "len(pages)\n",
        "pages[0]"
      ],
      "metadata": {
        "colab": {
          "base_uri": "https://localhost:8080/"
        },
        "id": "w-WdOabDEU-f",
        "outputId": "9b5868d8-bdb0-4a69-ad03-5a2558fc7f2d"
      },
      "execution_count": 16,
      "outputs": [
        {
          "output_type": "execute_result",
          "data": {
            "text/plain": [
              "Document(page_content=\"We are a young ed-tech platform focused on | Data Science and AI | . We \\ncommenced operations in 2021. Since then, we have experienced a continuous \\nupward trajectory, both within the ed-tech ecosystem and within our own team. |\\nT wo years down the lane, we are proud to have a team of 35 employees, with the\\ndistinction of | 75% | of them being women. This remarkable achievement \\nreflects the efforts of our founders, Dr. Naveed Iftikhar and Nida Mehmood, who \\nhave carefully curated this team with dedication. | Our | mission | , focused on \\nproviding accessible and all-inclusive education in the fields of Data Science and \\nAI, has witnessed exponential growth with each successive cohort of bootcamps. \\n| Through these | training initiatives | , we have nurtured a community of lifelong \\nlearners who not only contribute to the Data and AI ecosystem but have also \\nhoned the art of effective collaboration between diverse entities. | By offering \\nimmersive | learning experiences | , real-world projects, and personalized \\nmentorship, atomcamp is dedicated to establishing a global community of Data \\nScientists and AI | Professionals | . | Dr Naveed Iftikhar | Co-founder | Nida \\nMahmood | Co-founder | Meet our incredible | team | . | Fizza Amjad | Chief \\nExecutive Officer | Mahnoor Salman | ML Engineer | Zumer Zia | BI Specialist | \\nNazia Cheema | Admissions Manager | Aamna Babar | Project Manager | Safa \\nBaig | Manager Learning & Development | Rida Mughees | Manager Marketing | \\nSarmad Bilal | Senior Software Engineer | Hajira Anwar | AI Engineer | Anusha \\nQureshi | Marketing Consultant | Farwa Zahid | Data Analyst | Usama Shahid | \\nData Analyst | Iqra Jannat | Associate Data Scientist | Maria Qibtiya | Associate \\nData Scientist | A gateway to unlocking | opportunities | with | Artificial \\nIntelligence | & | Data Science | . | By providing accessible education in data \\nscience and AI, we aspire to cultivate a community of lifelong learners who not \\nonly embrace the digital age but also shape its trajectory. | Through immersive \\nlearning experiences, real-world projects, and personalized mentorship, \\natomcamp is building a global community in data-driven excellence. | Our | \\neducational | partners | . | Hello from remarkable | trainers | . | Hussain Shahbaz |\\nLinkedin | Usman Zia | Linkedin | Alexander Nallin | Linkedin | Yahya Bajwa | \\nLinkedin | Shafiqa Iqbal | Linkedin | Sidra Cheema | Linkedin | Ayman Rehan | \\nLinkedin | Dr Zubair Khalid | Linkedin | Zumer Zia | Linkedin | Muhammad Umair | \\nLinkedin | Mahnoor Salman | Linkedin | Naima Iltaf | Linkedin | atomcamp is a \\ncontinuous learning platform that aims to intellectually and professionally uplift \\nPakistan`s workforce. | atomcamp is a continuous learning platform | unlocking \\nopportunities with | Data Science. | For general inquiries: | team@atomcamp.com\\n| Home | About | Course | Publications | Home | About | Course | Publications | \\nDonâ€™t miss our future updates! | Get Subscribed T oday! | Please enable \\nJavaScript in your browser to complete this form. | Email | * | Subscribe | For \\nAdmissions: +92-302-2278385 | For Events & Partnerships: \\nfizza@atomcamp.com | 15-E Rehmat Center, Blue Area, Islamabad\\nWhy Choose atomcamp's Gatherings? | Expert Speaker Lineup: Discover from the\\nBest | Hands-On Workshops: Learning by Doing | Diverse Community: Connect \\nwith Data Enthusiasts | Networking Opportunities: Build Valuable Connections | \\nUpcoming Events | Past Events | NUST, Islamabad | AI Summit Islamabad | The AI\\nSummit 2023 featured a panel of industry experts and top academics. | They \\ndiscussed how AI is opening opportunities for youth and businesses. | Many \\nstartups joined the event. They showcased how they have applied AI to solve\", metadata={'source': '/content/atomcamp.pdf', 'page': 0})"
            ]
          },
          "metadata": {},
          "execution_count": 16
        }
      ]
    },
    {
      "cell_type": "code",
      "source": [
        "from langchain.text_splitter import RecursiveCharacterTextSplitter\n",
        "text_splitter = RecursiveCharacterTextSplitter(\n",
        "\n",
        "    chunk_size=1000,\n",
        "    chunk_overlap=200\n",
        ")\n",
        "\n",
        "texts = text_splitter.split_documents(pages)\n",
        "\n",
        "print(texts[0])\n",
        "print(texts[1])"
      ],
      "metadata": {
        "colab": {
          "base_uri": "https://localhost:8080/"
        },
        "id": "fKPWeKfPEyjA",
        "outputId": "c0438b0d-08a3-4bc2-9747-e44f223161f0"
      },
      "execution_count": 17,
      "outputs": [
        {
          "output_type": "stream",
          "name": "stdout",
          "text": [
            "page_content='We are a young ed-tech platform focused on | Data Science and AI | . We \\ncommenced operations in 2021. Since then, we have experienced a continuous \\nupward trajectory, both within the ed-tech ecosystem and within our own team. |\\nT wo years down the lane, we are proud to have a team of 35 employees, with the\\ndistinction of | 75% | of them being women. This remarkable achievement \\nreflects the efforts of our founders, Dr. Naveed Iftikhar and Nida Mehmood, who \\nhave carefully curated this team with dedication. | Our | mission | , focused on \\nproviding accessible and all-inclusive education in the fields of Data Science and \\nAI, has witnessed exponential growth with each successive cohort of bootcamps. \\n| Through these | training initiatives | , we have nurtured a community of lifelong \\nlearners who not only contribute to the Data and AI ecosystem but have also \\nhoned the art of effective collaboration between diverse entities. | By offering' metadata={'source': '/content/atomcamp.pdf', 'page': 0}\n",
            "page_content='learners who not only contribute to the Data and AI ecosystem but have also \\nhoned the art of effective collaboration between diverse entities. | By offering \\nimmersive | learning experiences | , real-world projects, and personalized \\nmentorship, atomcamp is dedicated to establishing a global community of Data \\nScientists and AI | Professionals | . | Dr Naveed Iftikhar | Co-founder | Nida \\nMahmood | Co-founder | Meet our incredible | team | . | Fizza Amjad | Chief \\nExecutive Officer | Mahnoor Salman | ML Engineer | Zumer Zia | BI Specialist | \\nNazia Cheema | Admissions Manager | Aamna Babar | Project Manager | Safa \\nBaig | Manager Learning & Development | Rida Mughees | Manager Marketing | \\nSarmad Bilal | Senior Software Engineer | Hajira Anwar | AI Engineer | Anusha \\nQureshi | Marketing Consultant | Farwa Zahid | Data Analyst | Usama Shahid | \\nData Analyst | Iqra Jannat | Associate Data Scientist | Maria Qibtiya | Associate' metadata={'source': '/content/atomcamp.pdf', 'page': 0}\n"
          ]
        }
      ]
    },
    {
      "cell_type": "code",
      "source": [
        "from langchain_openai import OpenAIEmbeddings\n",
        "from google.colab import userdata\n",
        "embeddings_model = OpenAIEmbeddings(openai_api_key=userdata.get('openai_api_key'))"
      ],
      "metadata": {
        "id": "bkk-5YMIMlLX"
      },
      "execution_count": 18,
      "outputs": []
    },
    {
      "cell_type": "code",
      "source": [
        "\n",
        "from langchain_community.vectorstores import Qdrant\n",
        "\n",
        "\n",
        "url = \"https://dbd8e71d-a2a6-44db-bb8d-771198b2bdbd.us-east4-0.gcp.cloud.qdrant.io:6333\"\n",
        "qdrant_api_key = userdata.get('qdrant')\n",
        "qdrant = Qdrant.from_documents(\n",
        "    texts,\n",
        "    embeddings_model,\n",
        "    url=url,\n",
        "    prefer_grpc=True,\n",
        "    api_key=qdrant_api_key,\n",
        "    collection_name=\"atom_bot_embeddings\",\n",
        ")\n"
      ],
      "metadata": {
        "id": "ywAAwdNXOXzm"
      },
      "execution_count": 19,
      "outputs": []
    },
    {
      "cell_type": "code",
      "source": [
        "question= \"What is the contact number and email address of atomcamp??\"\n",
        "context = qdrant.similarity_search(question)\n",
        "context[0]"
      ],
      "metadata": {
        "colab": {
          "base_uri": "https://localhost:8080/"
        },
        "id": "DI_X_2mtIUOz",
        "outputId": "c09bef9d-bda9-4023-f842-ba5c9e35a992"
      },
      "execution_count": 45,
      "outputs": [
        {
          "output_type": "execute_result",
          "data": {
            "text/plain": [
              "Document(page_content='Manager (Germany) | Education: Bachelors in Computer Sciences from FAST NU, \\nIslamabad | T echnical Software Development Training from TU Munich | Close | \\natomcamp is a continuous learning platform that aims to intellectually and \\nprofessionally uplift Pakistan`s workforce. | atomcamp is a continuous learning \\nplatform | unlocking opportunities with | Data Science. | For general inquiries: | \\nteam@atomcamp.com | Home | About | Course | Publications | Home | About | \\nCourse | Publications | Donâ€™t miss our future updates! | Get Subscribed \\nT oday! | Please enable JavaScript in your browser to complete this form. | Email | \\n* | Subscribe | For Admissions: +92-302-2278385 | For Events & Partnerships: \\nfizza@atomcamp.com | 15-E Rehmat Center, Blue Area, Islamabad', metadata={'page': 4, 'source': '/content/atomcamp.pdf', '_id': 'ad0a93d2-49b0-4600-8233-8758159aaf56', '_collection_name': 'atom_bot_embeddings'})"
            ]
          },
          "metadata": {},
          "execution_count": 45
        }
      ]
    },
    {
      "cell_type": "code",
      "source": [
        "from langchain.prompts import PromptTemplate\n",
        "prompt=PromptTemplate(\n",
        "    template=\"\"\"\"You ara a chatbot named 'Atom-bot' and belong to an online education platform.\n",
        "    Your purpose is to spread positive image of the institute and give information to the user.Use the following pieces of context to answer the questions at the end.If\n",
        "    you don't know the answer, just say don't know. do not try to make up the answer.\n",
        "\n",
        "    <context>\n",
        "    {context}\n",
        "    </context>\n",
        "\n",
        "    Question: {question}\n",
        "    Helpful Answer,formatted in markdown:\"\"\",\n",
        "    input_variables=[\"context\",\"question\"]\n",
        ")\n"
      ],
      "metadata": {
        "id": "qFHZuoyGN1am"
      },
      "execution_count": 46,
      "outputs": []
    },
    {
      "cell_type": "code",
      "source": [
        "from langchain.chains import LLMChain\n",
        "from langchain.llms import OpenAI\n",
        "\n",
        "llm=OpenAI(openai_api_key=userdata.get('openai_api_key'))\n",
        "chain=LLMChain(llm=llm,prompt=prompt)\n",
        "\n",
        "result=chain({\n",
        "    \"question\":question,\n",
        "    \"context\":\"/n\".join([doc.page_content for doc in context])\n",
        "})\n",
        "\n",
        "print(result['text'])"
      ],
      "metadata": {
        "id": "WaBCLLaHQV_H",
        "colab": {
          "base_uri": "https://localhost:8080/"
        },
        "outputId": "89ba92c4-ff39-4422-8757-180da366308a"
      },
      "execution_count": 47,
      "outputs": [
        {
          "output_type": "stream",
          "name": "stdout",
          "text": [
            "\n",
            "The contact number for admissions is +92-302-2278385 and the email address for general inquiries is team@atomcamp.com.\n"
          ]
        }
      ]
    }
  ]
}