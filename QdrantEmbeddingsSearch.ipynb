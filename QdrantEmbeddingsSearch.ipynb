{
  "nbformat": 4,
  "nbformat_minor": 0,
  "metadata": {
    "colab": {
      "provenance": [],
      "authorship_tag": "ABX9TyMn7znPZIigAI93aFALPmZX",
      "include_colab_link": true
    },
    "kernelspec": {
      "name": "python3",
      "display_name": "Python 3"
    },
    "language_info": {
      "name": "python"
    }
  },
  "cells": [
    {
      "cell_type": "markdown",
      "metadata": {
        "id": "view-in-github",
        "colab_type": "text"
      },
      "source": [
        "<a href=\"https://colab.research.google.com/github/taaha3244/atom-bot/blob/main/QdrantEmbeddingsSearch.ipynb\" target=\"_parent\"><img src=\"https://colab.research.google.com/assets/colab-badge.svg\" alt=\"Open In Colab\"/></a>"
      ]
    },
    {
      "cell_type": "code",
      "execution_count": null,
      "metadata": {
        "id": "NhRmv2NmVmDL"
      },
      "outputs": [],
      "source": [
        "!pip install gradio\n",
        "!pip install langchain\n",
        "!pip install --upgrade --quiet  qdrant-client\n",
        "!pip install  langchain_openai\n"
      ]
    },
    {
      "cell_type": "code",
      "source": [
        "import gradio as gr\n",
        "from langchain_community.vectorstores import Qdrant\n",
        "from qdrant_client import QdrantClient\n",
        "from qdrant_client.http import models\n",
        "from google.colab import userdata\n"
      ],
      "metadata": {
        "id": "tPj8cyxFVpW2"
      },
      "execution_count": 2,
      "outputs": []
    },
    {
      "cell_type": "code",
      "source": [
        "from qdrant_client import QdrantClient\n",
        "\n",
        "qdrant_client = QdrantClient(\n",
        "    url=userdata.get('qdrant_end'),\n",
        "    api_key=userdata.get('qdrant')\n",
        ")"
      ],
      "metadata": {
        "id": "bGE6dbbijdrd"
      },
      "execution_count": 3,
      "outputs": []
    },
    {
      "cell_type": "code",
      "source": [
        "from langchain_openai import OpenAIEmbeddings\n",
        "embeddings = OpenAIEmbeddings(openai_api_key=userdata.get('openai_api_key'))\n",
        "\n",
        "question = \"Should I enroll in atomcamp?\"\n",
        "query_result = embeddings.embed_query(question)"
      ],
      "metadata": {
        "id": "bu9CfyA27mVc"
      },
      "execution_count": 41,
      "outputs": []
    },
    {
      "cell_type": "code",
      "source": [
        "response = qdrant_client.search(\n",
        "    collection_name=\"atom_bot_embeddings\",\n",
        "    query_vector=query_result\n",
        "   # Number of closest vectors to retrieve\n",
        ")"
      ],
      "metadata": {
        "id": "jBUd1Ax_ItBF"
      },
      "execution_count": 42,
      "outputs": []
    },
    {
      "cell_type": "code",
      "source": [
        "response[3].payload['page_content']"
      ],
      "metadata": {
        "colab": {
          "base_uri": "https://localhost:8080/",
          "height": 105
        },
        "id": "R5L4srod8mGH",
        "outputId": "3502504f-07d2-4e3c-e60d-d6b2e3de115a"
      },
      "execution_count": 43,
      "outputs": [
        {
          "output_type": "execute_result",
          "data": {
            "text/plain": [
              "'learners who not only contribute to the Data and AI ecosystem but have also \\nhoned the art of effective collaboration between diverse entities. | By offering \\nimmersive | learning experiences | , real-world projects, and personalized \\nmentorship, atomcamp is dedicated to establishing a global community of Data \\nScientists and AI | Professionals | . | Dr Naveed Iftikhar | Co-founder | Nida \\nMahmood | Co-founder | Meet our incredible | team | . | Fizza Amjad | Chief \\nExecutive Officer | Mahnoor Salman | ML Engineer | Zumer Zia | BI Specialist | \\nNazia Cheema | Admissions Manager | Aamna Babar | Project Manager | Safa \\nBaig | Manager Learning & Development | Rida Mughees | Manager Marketing | \\nSarmad Bilal | Senior Software Engineer | Hajira Anwar | AI Engineer | Anusha \\nQureshi | Marketing Consultant | Farwa Zahid | Data Analyst | Usama Shahid | \\nData Analyst | Iqra Jannat | Associate Data Scientist | Maria Qibtiya | Associate'"
            ],
            "application/vnd.google.colaboratory.intrinsic+json": {
              "type": "string"
            }
          },
          "metadata": {},
          "execution_count": 43
        }
      ]
    },
    {
      "cell_type": "code",
      "source": [
        "from langchain.prompts import PromptTemplate\n",
        "prompt=PromptTemplate(\n",
        "    template=\"\"\"\"You ara a chatbot named 'Atom-bot' and belong to an online education platform named Atom camp.\n",
        "    Your purpose is to spread positive image of the institute and give information to the user.Use the following pieces of context to answer the questions at the end.If\n",
        "    you don't know the answer, just say don't know. do not try to make up the answer.\n",
        "\n",
        "    <context>\n",
        "    {context}\n",
        "    </context>\n",
        "\n",
        "    Question: {question}\n",
        "    Helpful Answer,formatted in markdown:\"\"\",\n",
        "    input_variables=[\"context\",\"question\"]\n",
        ")\n"
      ],
      "metadata": {
        "id": "X3GChimV8m6f"
      },
      "execution_count": 44,
      "outputs": []
    },
    {
      "cell_type": "code",
      "source": [
        "from langchain.chains import LLMChain\n",
        "from langchain.llms import OpenAI\n",
        "\n",
        "llm=OpenAI(openai_api_key=userdata.get('openai_api_key'))\n",
        "chain=LLMChain(llm=llm,prompt=prompt)\n",
        "\n",
        "result=chain({\n",
        "    \"question\":question,\n",
        "    \"context\":\"/n\".join([doc.payload['page_content'] for doc in response])\n",
        "})\n",
        "\n",
        "print(result['text'])"
      ],
      "metadata": {
        "colab": {
          "base_uri": "https://localhost:8080/"
        },
        "id": "Y4HRzfglKTYW",
        "outputId": "3afc5f03-0d51-4564-a59a-707ed1712059"
      },
      "execution_count": 45,
      "outputs": [
        {
          "output_type": "stream",
          "name": "stdout",
          "text": [
            "\n",
            "Yes, you should consider enrolling in atomcamp. With its continuous learning platform, expert speaker lineup, hands-on workshops, and diverse community, atomcamp offers a unique opportunity to intellectually and professionally uplift yourself. Plus, with its focus on data science and AI, you can unlock numerous opportunities in this rapidly growing field. Furthermore, atomcamp has a dedicated team of experienced professionals who are committed to helping you succeed. So, don't miss out on the chance to join this global community of data scientists and AI professionals. \n"
          ]
        }
      ]
    },
    {
      "cell_type": "code",
      "source": [],
      "metadata": {
        "id": "4Kufrhj-KWpt"
      },
      "execution_count": null,
      "outputs": []
    }
  ]
}