{
  "nbformat": 4,
  "nbformat_minor": 0,
  "metadata": {
    "colab": {
      "provenance": [],
      "authorship_tag": "ABX9TyOQLM6QkSJmyu7LE4FFXVbG",
      "include_colab_link": true
    },
    "kernelspec": {
      "name": "python3",
      "display_name": "Python 3"
    },
    "language_info": {
      "name": "python"
    }
  },
  "cells": [
    {
      "cell_type": "markdown",
      "metadata": {
        "id": "view-in-github",
        "colab_type": "text"
      },
      "source": [
        "<a href=\"https://colab.research.google.com/github/taaha3244/atom-bot/blob/main/QdrantEmbeddingsSearch.ipynb\" target=\"_parent\"><img src=\"https://colab.research.google.com/assets/colab-badge.svg\" alt=\"Open In Colab\"/></a>"
      ]
    },
    {
      "cell_type": "code",
      "execution_count": null,
      "metadata": {
        "id": "NhRmv2NmVmDL"
      },
      "outputs": [],
      "source": [
        "!pip install gradio\n",
        "!pip install langchain\n",
        "!pip install --upgrade --quiet  qdrant-client\n",
        "!pip install  langchain_openai\n"
      ]
    },
    {
      "cell_type": "code",
      "source": [
        "import gradio as gr\n",
        "from langchain_community.vectorstores import Qdrant\n",
        "from qdrant_client import QdrantClient\n",
        "from qdrant_client.http import models\n",
        "from google.colab import userdata\n",
        "from qdrant_client import QdrantClient\n",
        "from langchain_openai import OpenAIEmbeddings\n",
        "from langchain.prompts import PromptTemplate\n",
        "from langchain.chains import LLMChain\n",
        "from langchain.llms import OpenAI"
      ],
      "metadata": {
        "id": "tPj8cyxFVpW2"
      },
      "execution_count": 9,
      "outputs": []
    },
    {
      "cell_type": "code",
      "source": [
        "def atom_bot(question: str,openai_api_key):\n",
        "\n",
        "  qdrant_client = QdrantClient(\n",
        "    url=userdata.get('qdrant_end'),\n",
        "    api_key=userdata.get('qdrant')\n",
        "  )\n",
        "\n",
        "  embeddings = OpenAIEmbeddings(openai_api_key=openai_api_key)\n",
        "  query_result = embeddings.embed_query(question)\n",
        "\n",
        "  response = qdrant_client.search(\n",
        "    collection_name=\"atom_bot_embeddings\",\n",
        "    query_vector=query_result\n",
        "   # Number of closest vectors to retrieve\n",
        "  )\n",
        "\n",
        "\n",
        "  prompt=PromptTemplate(\n",
        "    template=\"\"\"\"You ara a chatbot named 'Atom-bot' and belong to an online education platform named Atom camp.\n",
        "    Your purpose is to spread positive image of the institute and give information to the user.Use the following pieces of context to answer the questions at the end.If\n",
        "    you don't know the answer, just say don't know. do not try to make up the answer.\n",
        "\n",
        "    <context>\n",
        "    {context}\n",
        "    </context>\n",
        "\n",
        "    Question: {question}\n",
        "    Helpful Answer,formatted in markdown:\"\"\",\n",
        "    input_variables=[\"context\",\"question\"]\n",
        "  )\n",
        "\n",
        "  llm=OpenAI(openai_api_key=openai_api_key)\n",
        "  chain=LLMChain(llm=llm,prompt=prompt)\n",
        "\n",
        "  result=chain({\n",
        "    \"question\":question,\n",
        "    \"context\":\"/n\".join([doc.payload['page_content'] for doc in response])\n",
        "  })\n",
        "\n",
        "  return (result['text'])\n",
        "\n",
        "\n",
        "\n"
      ],
      "metadata": {
        "id": "EJBQgrplsUme"
      },
      "execution_count": 23,
      "outputs": []
    },
    {
      "cell_type": "code",
      "source": [
        "atom_bot('who is Mr Naveed?')"
      ],
      "metadata": {
        "colab": {
          "base_uri": "https://localhost:8080/",
          "height": 53
        },
        "id": "mko_aZVTthE1",
        "outputId": "89609fff-2d6e-46b4-d32a-4aa09e7b2b46"
      },
      "execution_count": 15,
      "outputs": [
        {
          "output_type": "execute_result",
          "data": {
            "text/plain": [
              "'\\n\\nDr. Naveed Iftikhar is the co-founder of Atom camp, the online education platform focused on data science and AI. He is one of the distinguished speakers at the \"Data Science and AI: The Science of Future\" event hosted by Atom camp at NIC Karachi and is also mentioned as one of the educational partners of the institute. '"
            ],
            "application/vnd.google.colaboratory.intrinsic+json": {
              "type": "string"
            }
          },
          "metadata": {},
          "execution_count": 15
        }
      ]
    },
    {
      "cell_type": "code",
      "source": [
        "inputs = [\n",
        "    gr.Textbox(lines=3, label=\"Enter your question\"),\n",
        "    gr.Textbox(label=\"OpenAI API Key\", type=\"password\" )\n",
        "]\n",
        "outputs = gr.Textbox(label=\"Response\")\n",
        "\n",
        "# Create Gradio interface\n",
        "gr.Interface(\n",
        "    fn=atom_bot,\n",
        "    inputs=inputs,\n",
        "    outputs=outputs,\n",
        "    title=\"Atom-bot Chatbot\",\n",
        "    description=\"Ask any question related to Atom Camp online education platform.\",\n",
        "    examples=[[\"What courses does Atom Camp offer?\"]]\n",
        ").launch()"
      ],
      "metadata": {
        "colab": {
          "base_uri": "https://localhost:8080/",
          "height": 626
        },
        "id": "l1kjo-mywdfp",
        "outputId": "ddfae808-f691-4f13-cf5b-d102360939f2"
      },
      "execution_count": 25,
      "outputs": [
        {
          "output_type": "stream",
          "name": "stdout",
          "text": [
            "Setting queue=True in a Colab notebook requires sharing enabled. Setting `share=True` (you can turn this off by setting `share=False` in `launch()` explicitly).\n",
            "\n",
            "Colab notebook detected. To show errors in colab notebook, set debug=True in launch()\n",
            "Running on public URL: https://10b552623d437dfc58.gradio.live\n",
            "\n",
            "This share link expires in 72 hours. For free permanent hosting and GPU upgrades, run `gradio deploy` from Terminal to deploy to Spaces (https://huggingface.co/spaces)\n"
          ]
        },
        {
          "output_type": "display_data",
          "data": {
            "text/plain": [
              "<IPython.core.display.HTML object>"
            ],
            "text/html": [
              "<div><iframe src=\"https://10b552623d437dfc58.gradio.live\" width=\"100%\" height=\"500\" allow=\"autoplay; camera; microphone; clipboard-read; clipboard-write;\" frameborder=\"0\" allowfullscreen></iframe></div>"
            ]
          },
          "metadata": {}
        },
        {
          "output_type": "execute_result",
          "data": {
            "text/plain": []
          },
          "metadata": {},
          "execution_count": 25
        }
      ]
    }
  ]
}