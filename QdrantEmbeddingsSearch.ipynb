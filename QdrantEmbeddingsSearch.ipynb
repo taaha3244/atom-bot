{
  "nbformat": 4,
  "nbformat_minor": 0,
  "metadata": {
    "colab": {
      "provenance": [],
      "authorship_tag": "ABX9TyPytUE+L+vAGGafPicALGk3",
      "include_colab_link": true
    },
    "kernelspec": {
      "name": "python3",
      "display_name": "Python 3"
    },
    "language_info": {
      "name": "python"
    }
  },
  "cells": [
    {
      "cell_type": "markdown",
      "metadata": {
        "id": "view-in-github",
        "colab_type": "text"
      },
      "source": [
        "<a href=\"https://colab.research.google.com/github/taaha3244/atom-bot/blob/main/QdrantEmbeddingsSearch.ipynb\" target=\"_parent\"><img src=\"https://colab.research.google.com/assets/colab-badge.svg\" alt=\"Open In Colab\"/></a>"
      ]
    },
    {
      "cell_type": "code",
      "execution_count": null,
      "metadata": {
        "id": "NhRmv2NmVmDL"
      },
      "outputs": [],
      "source": [
        "!pip install gradio\n",
        "!pip install langchain\n",
        "!pip install --upgrade --quiet  qdrant-client\n",
        "!pip install  langchain_openai\n"
      ]
    },
    {
      "cell_type": "code",
      "source": [
        "import gradio as gr\n",
        "from langchain_community.vectorstores import Qdrant\n",
        "from qdrant_client import QdrantClient\n",
        "from qdrant_client.http import models\n",
        "from google.colab import userdata\n"
      ],
      "metadata": {
        "id": "tPj8cyxFVpW2"
      },
      "execution_count": 2,
      "outputs": []
    },
    {
      "cell_type": "code",
      "source": [
        "from qdrant_client import QdrantClient\n",
        "\n",
        "qdrant_client = QdrantClient(\n",
        "    url=userdata.get('qdrant_end'),\n",
        "    api_key=userdata.get('qdrant')\n",
        ")"
      ],
      "metadata": {
        "id": "bGE6dbbijdrd"
      },
      "execution_count": 11,
      "outputs": []
    },
    {
      "cell_type": "code",
      "source": [
        "from langchain_openai import OpenAIEmbeddings\n",
        "embeddings = OpenAIEmbeddings(openai_api_key=userdata.get('openai_api_key'))\n",
        "\n",
        "query = \"tell me about naveed?\"\n",
        "query_result = embeddings.embed_query(query)"
      ],
      "metadata": {
        "id": "bu9CfyA27mVc"
      },
      "execution_count": 12,
      "outputs": []
    },
    {
      "cell_type": "code",
      "source": [
        "response = qdrant_client.search(\n",
        "    collection_name=\"atom_bot_embeddings\",\n",
        "    query_vector=query_result\n",
        "   # Number of closest vectors to retrieve\n",
        ")"
      ],
      "metadata": {
        "id": "jBUd1Ax_ItBF"
      },
      "execution_count": 14,
      "outputs": []
    },
    {
      "cell_type": "code",
      "source": [
        "response[1]"
      ],
      "metadata": {
        "colab": {
          "base_uri": "https://localhost:8080/"
        },
        "id": "R5L4srod8mGH",
        "outputId": "a3854671-3959-4a3c-9b9a-4509260a9f2f"
      },
      "execution_count": 16,
      "outputs": [
        {
          "output_type": "execute_result",
          "data": {
            "text/plain": [
              "ScoredPoint(id='239e7caf-0d0c-4f55-b911-71e123431720', version=0, score=0.75670904, payload={'metadata': {'page': 2, 'source': '/content/atomcamp.pdf'}, 'page_content': 'Futureâ€\\x9d hosted by atomcamp at NIC Karachi, stood as a pivotal event at the \\nforefront of technological advancement. Distinguished speakers, including Dr. \\nNaveed Iftikhar, Ahmed Bilal, Asad Ali Shah, Berjees Shaikh, Afroz Pasha, Ayman \\nRehan and Muhammad Zaid, converged for the seminar, exploring the \\nconfluence of data science and AI. The event provided attendees an opportunity \\nto grasp the evolving landscape of these domains. | Through compelling \\npresentations, and expert panels, participants gleaned profound insights into the \\ntransformative capabilities of data-driven decision-making and AI \\nimplementations across industries. They delved into the discussion of Data \\nGovernance and the need of forming strategies by companies to manage huge \\ndata. By facilitating discourse among accomplished professionals, researchers, \\nand enthusiasts, the event assumed a vital role in equipping individuals to \\nharness the potential of data and AI, thereby influencing the trajectory of'}, vector=None, shard_key=None)"
            ]
          },
          "metadata": {},
          "execution_count": 16
        }
      ]
    },
    {
      "cell_type": "code",
      "source": [],
      "metadata": {
        "id": "X3GChimV8m6f"
      },
      "execution_count": null,
      "outputs": []
    }
  ]
}