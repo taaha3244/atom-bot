{
  "nbformat": 4,
  "nbformat_minor": 0,
  "metadata": {
    "colab": {
      "provenance": [],
      "authorship_tag": "ABX9TyOYOn0i/GKG2YBrSpYqlcMQ",
      "include_colab_link": true
    },
    "kernelspec": {
      "name": "python3",
      "display_name": "Python 3"
    },
    "language_info": {
      "name": "python"
    }
  },
  "cells": [
    {
      "cell_type": "markdown",
      "metadata": {
        "id": "view-in-github",
        "colab_type": "text"
      },
      "source": [
        "<a href=\"https://colab.research.google.com/github/taaha3244/atom-bot/blob/main/RAG.ipynb\" target=\"_parent\"><img src=\"https://colab.research.google.com/assets/colab-badge.svg\" alt=\"Open In Colab\"/></a>"
      ]
    },
    {
      "cell_type": "code",
      "execution_count": null,
      "metadata": {
        "id": "A8Cq0hc-DGSN"
      },
      "outputs": [],
      "source": [
        "!pip install pypdf openai transformers Chroma langchain langchain_openai chromadb"
      ]
    },
    {
      "cell_type": "code",
      "source": [
        "from langchain_community.document_loaders import PyPDFLoader\n",
        "\n",
        "loader = PyPDFLoader(\"/content/atomcamp.pdf\")\n",
        "pages = loader.load_and_split()\n",
        "len(pages)\n",
        "pages[0]"
      ],
      "metadata": {
        "colab": {
          "base_uri": "https://localhost:8080/"
        },
        "id": "w-WdOabDEU-f",
        "outputId": "eb7b18e4-fcbf-4658-af3b-40b135760d38"
      },
      "execution_count": 31,
      "outputs": [
        {
          "output_type": "execute_result",
          "data": {
            "text/plain": [
              "Document(page_content=\"We are a young ed-tech platform focused on | Data Science and AI | . We \\ncommenced operations in 2021. Since then, we have experienced a continuous \\nupward trajectory, both within the ed-tech ecosystem and within our own team. |\\nT wo years down the lane, we are proud to have a team of 35 employees, with the\\ndistinction of | 75% | of them being women. This remarkable achievement \\nreflects the efforts of our founders, Dr. Naveed Iftikhar and Nida Mehmood, who \\nhave carefully curated this team with dedication. | Our | mission | , focused on \\nproviding accessible and all-inclusive education in the fields of Data Science and \\nAI, has witnessed exponential growth with each successive cohort of bootcamps. \\n| Through these | training initiatives | , we have nurtured a community of lifelong \\nlearners who not only contribute to the Data and AI ecosystem but have also \\nhoned the art of effective collaboration between diverse entities. | By offering \\nimmersive | learning experiences | , real-world projects, and personalized \\nmentorship, atomcamp is dedicated to establishing a global community of Data \\nScientists and AI | Professionals | . | Dr Naveed Iftikhar | Co-founder | Nida \\nMahmood | Co-founder | Meet our incredible | team | . | Fizza Amjad | Chief \\nExecutive Officer | Mahnoor Salman | ML Engineer | Zumer Zia | BI Specialist | \\nNazia Cheema | Admissions Manager | Aamna Babar | Project Manager | Safa \\nBaig | Manager Learning & Development | Rida Mughees | Manager Marketing | \\nSarmad Bilal | Senior Software Engineer | Hajira Anwar | AI Engineer | Anusha \\nQureshi | Marketing Consultant | Farwa Zahid | Data Analyst | Usama Shahid | \\nData Analyst | Iqra Jannat | Associate Data Scientist | Maria Qibtiya | Associate \\nData Scientist | A gateway to unlocking | opportunities | with | Artificial \\nIntelligence | & | Data Science | . | By providing accessible education in data \\nscience and AI, we aspire to cultivate a community of lifelong learners who not \\nonly embrace the digital age but also shape its trajectory. | Through immersive \\nlearning experiences, real-world projects, and personalized mentorship, \\natomcamp is building a global community in data-driven excellence. | Our | \\neducational | partners | . | Hello from remarkable | trainers | . | Hussain Shahbaz |\\nLinkedin | Usman Zia | Linkedin | Alexander Nallin | Linkedin | Yahya Bajwa | \\nLinkedin | Shafiqa Iqbal | Linkedin | Sidra Cheema | Linkedin | Ayman Rehan | \\nLinkedin | Dr Zubair Khalid | Linkedin | Zumer Zia | Linkedin | Muhammad Umair | \\nLinkedin | Mahnoor Salman | Linkedin | Naima Iltaf | Linkedin | atomcamp is a \\ncontinuous learning platform that aims to intellectually and professionally uplift \\nPakistan`s workforce. | atomcamp is a continuous learning platform | unlocking \\nopportunities with | Data Science. | For general inquiries: | team@atomcamp.com\\n| Home | About | Course | Publications | Home | About | Course | Publications | \\nDonâ€™t miss our future updates! | Get Subscribed T oday! | Please enable \\nJavaScript in your browser to complete this form. | Email | * | Subscribe | For \\nAdmissions: +92-302-2278385 | For Events & Partnerships: \\nfizza@atomcamp.com | 15-E Rehmat Center, Blue Area, Islamabad\\nWhy Choose atomcamp's Gatherings? | Expert Speaker Lineup: Discover from the\\nBest | Hands-On Workshops: Learning by Doing | Diverse Community: Connect \\nwith Data Enthusiasts | Networking Opportunities: Build Valuable Connections | \\nUpcoming Events | Past Events | NUST, Islamabad | AI Summit Islamabad | The AI\\nSummit 2023 featured a panel of industry experts and top academics. | They \\ndiscussed how AI is opening opportunities for youth and businesses. | Many \\nstartups joined the event. They showcased how they have applied AI to solve\", metadata={'source': '/content/atomcamp.pdf', 'page': 0})"
            ]
          },
          "metadata": {},
          "execution_count": 31
        }
      ]
    },
    {
      "cell_type": "code",
      "source": [
        "from langchain.text_splitter import RecursiveCharacterTextSplitter\n",
        "text_splitter = RecursiveCharacterTextSplitter(\n",
        "\n",
        "    chunk_size=1000,\n",
        "    chunk_overlap=200\n",
        ")\n",
        "\n",
        "texts = text_splitter.split_documents(pages)\n",
        "\n",
        "print(texts[0])\n",
        "print(texts[1])"
      ],
      "metadata": {
        "colab": {
          "base_uri": "https://localhost:8080/"
        },
        "id": "fKPWeKfPEyjA",
        "outputId": "db95de5b-ef16-4f4d-cb30-cafb3ecc0612"
      },
      "execution_count": 32,
      "outputs": [
        {
          "output_type": "stream",
          "name": "stdout",
          "text": [
            "page_content='We are a young ed-tech platform focused on | Data Science and AI | . We \\ncommenced operations in 2021. Since then, we have experienced a continuous \\nupward trajectory, both within the ed-tech ecosystem and within our own team. |\\nT wo years down the lane, we are proud to have a team of 35 employees, with the\\ndistinction of | 75% | of them being women. This remarkable achievement \\nreflects the efforts of our founders, Dr. Naveed Iftikhar and Nida Mehmood, who \\nhave carefully curated this team with dedication. | Our | mission | , focused on \\nproviding accessible and all-inclusive education in the fields of Data Science and \\nAI, has witnessed exponential growth with each successive cohort of bootcamps. \\n| Through these | training initiatives | , we have nurtured a community of lifelong \\nlearners who not only contribute to the Data and AI ecosystem but have also \\nhoned the art of effective collaboration between diverse entities. | By offering' metadata={'source': '/content/atomcamp.pdf', 'page': 0}\n",
            "page_content='learners who not only contribute to the Data and AI ecosystem but have also \\nhoned the art of effective collaboration between diverse entities. | By offering \\nimmersive | learning experiences | , real-world projects, and personalized \\nmentorship, atomcamp is dedicated to establishing a global community of Data \\nScientists and AI | Professionals | . | Dr Naveed Iftikhar | Co-founder | Nida \\nMahmood | Co-founder | Meet our incredible | team | . | Fizza Amjad | Chief \\nExecutive Officer | Mahnoor Salman | ML Engineer | Zumer Zia | BI Specialist | \\nNazia Cheema | Admissions Manager | Aamna Babar | Project Manager | Safa \\nBaig | Manager Learning & Development | Rida Mughees | Manager Marketing | \\nSarmad Bilal | Senior Software Engineer | Hajira Anwar | AI Engineer | Anusha \\nQureshi | Marketing Consultant | Farwa Zahid | Data Analyst | Usama Shahid | \\nData Analyst | Iqra Jannat | Associate Data Scientist | Maria Qibtiya | Associate' metadata={'source': '/content/atomcamp.pdf', 'page': 0}\n"
          ]
        }
      ]
    },
    {
      "cell_type": "code",
      "source": [
        "from langchain_openai import OpenAIEmbeddings\n",
        "from google.colab import userdata\n",
        "embeddings_model = OpenAIEmbeddings(openai_api_key=userdata.get('openai_api_key'))"
      ],
      "metadata": {
        "id": "bkk-5YMIMlLX"
      },
      "execution_count": 53,
      "outputs": []
    },
    {
      "cell_type": "code",
      "source": [
        "from langchain.vectorstores import Chroma\n",
        "vector_db=Chroma.from_documents(documents=texts,embedding=embeddings_model,persist_directory='MyEmbeddings')\n"
      ],
      "metadata": {
        "id": "ywAAwdNXOXzm"
      },
      "execution_count": 41,
      "outputs": []
    },
    {
      "cell_type": "code",
      "source": [
        "from google.colab import files\n",
        "files.download('/content/MyEmbeddings')"
      ],
      "metadata": {
        "colab": {
          "base_uri": "https://localhost:8080/",
          "height": 34
        },
        "id": "N6CSx1HVPiqR",
        "outputId": "d515635c-712b-4fae-9879-fc3b8ffea094"
      },
      "execution_count": 42,
      "outputs": [
        {
          "output_type": "display_data",
          "data": {
            "text/plain": [
              "<IPython.core.display.Javascript object>"
            ],
            "application/javascript": [
              "\n",
              "    async function download(id, filename, size) {\n",
              "      if (!google.colab.kernel.accessAllowed) {\n",
              "        return;\n",
              "      }\n",
              "      const div = document.createElement('div');\n",
              "      const label = document.createElement('label');\n",
              "      label.textContent = `Downloading \"${filename}\": `;\n",
              "      div.appendChild(label);\n",
              "      const progress = document.createElement('progress');\n",
              "      progress.max = size;\n",
              "      div.appendChild(progress);\n",
              "      document.body.appendChild(div);\n",
              "\n",
              "      const buffers = [];\n",
              "      let downloaded = 0;\n",
              "\n",
              "      const channel = await google.colab.kernel.comms.open(id);\n",
              "      // Send a message to notify the kernel that we're ready.\n",
              "      channel.send({})\n",
              "\n",
              "      for await (const message of channel.messages) {\n",
              "        // Send a message to notify the kernel that we're ready.\n",
              "        channel.send({})\n",
              "        if (message.buffers) {\n",
              "          for (const buffer of message.buffers) {\n",
              "            buffers.push(buffer);\n",
              "            downloaded += buffer.byteLength;\n",
              "            progress.value = downloaded;\n",
              "          }\n",
              "        }\n",
              "      }\n",
              "      const blob = new Blob(buffers, {type: 'application/binary'});\n",
              "      const a = document.createElement('a');\n",
              "      a.href = window.URL.createObjectURL(blob);\n",
              "      a.download = filename;\n",
              "      div.appendChild(a);\n",
              "      a.click();\n",
              "      div.remove();\n",
              "    }\n",
              "  "
            ]
          },
          "metadata": {}
        },
        {
          "output_type": "display_data",
          "data": {
            "text/plain": [
              "<IPython.core.display.Javascript object>"
            ],
            "application/javascript": [
              "download(\"download_5d1668d0-2b4b-44b4-bf4e-d4e78e1fd87b\", \"MyEmbeddings\", 4096)"
            ]
          },
          "metadata": {}
        }
      ]
    },
    {
      "cell_type": "code",
      "source": [
        "from langchain.chains import RetrievalQA\n",
        "from langchain.llms import OpenAI\n",
        "chain=RetrievalQA.from_chain_type(llm=OpenAI(openai_api_key=userdata.get('openai_api_key')),chain_type='stuff',retriever=vector_db.as_retriever())"
      ],
      "metadata": {
        "id": "WaBCLLaHQV_H"
      },
      "execution_count": 54,
      "outputs": []
    },
    {
      "cell_type": "code",
      "source": [
        "query='who is the founder of atomcamp'\n",
        "chain.run(query)"
      ],
      "metadata": {
        "colab": {
          "base_uri": "https://localhost:8080/",
          "height": 90
        },
        "id": "1HdPt4S0Rikh",
        "outputId": "95ed0252-aedb-4113-cd9c-4717da0601ee"
      },
      "execution_count": 47,
      "outputs": [
        {
          "output_type": "stream",
          "name": "stderr",
          "text": [
            "/usr/local/lib/python3.10/dist-packages/langchain_core/_api/deprecation.py:117: LangChainDeprecationWarning: The function `run` was deprecated in LangChain 0.1.0 and will be removed in 0.2.0. Use invoke instead.\n",
            "  warn_deprecated(\n"
          ]
        },
        {
          "output_type": "execute_result",
          "data": {
            "text/plain": [
              "' Dr Naveed Iftikhar and Nida Mahmood are the co-founders of atomcamp.'"
            ],
            "application/vnd.google.colaboratory.intrinsic+json": {
              "type": "string"
            }
          },
          "metadata": {},
          "execution_count": 47
        }
      ]
    },
    {
      "cell_type": "code",
      "source": [
        "chain.run('what do you know about data science bootcamp??')"
      ],
      "metadata": {
        "colab": {
          "base_uri": "https://localhost:8080/",
          "height": 87
        },
        "id": "vozIIYg5SzDc",
        "outputId": "b6c09fa1-757d-4538-cb30-de8334758d6d"
      },
      "execution_count": 55,
      "outputs": [
        {
          "output_type": "execute_result",
          "data": {
            "text/plain": [
              "' Based on the given context, I know that the data science bootcamp is a training program offered by atomcamp to individuals who are seeking careers in data science. It is designed to equip individuals with the necessary skills and knowledge to excel in the field of data science. Additionally, the bootcamp is highly acclaimed and has been attended by individuals from various backgrounds, including curious students, professionals looking to pivot their careers, and those aiming to upskill themselves. The bootcamp also offers personalized roadmap to success and has been described as an opportunity not to be missed for those looking to kickstart their careers in the data science industry.'"
            ],
            "application/vnd.google.colaboratory.intrinsic+json": {
              "type": "string"
            }
          },
          "metadata": {},
          "execution_count": 55
        }
      ]
    },
    {
      "cell_type": "code",
      "source": [
        "from google.colab import userdata\n",
        "openai_api_key=userdata.get('openai_api_key')"
      ],
      "metadata": {
        "id": "iSqEsvMTS58B"
      },
      "execution_count": 52,
      "outputs": []
    }
  ]
}